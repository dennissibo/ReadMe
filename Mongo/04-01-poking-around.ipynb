{
 "cells": [
  {
   "cell_type": "code",
   "execution_count": 1,
   "metadata": {},
   "outputs": [],
   "source": [
    "! pip install boto3 pymongo twitter --quiet"
   ]
  },
  {
   "cell_type": "code",
   "execution_count": 2,
   "metadata": {},
   "outputs": [],
   "source": [
    "from pymongo import MongoClient"
   ]
  },
  {
   "cell_type": "code",
   "execution_count": 3,
   "metadata": {},
   "outputs": [],
   "source": [
    "mongo_client = MongoClient('18.236.138.158', 27016)\n",
    "database_reference = mongo_client.twitter\n",
    "collection_reference = database_reference.tweets"
   ]
  },
  {
   "cell_type": "code",
   "execution_count": 4,
   "metadata": {},
   "outputs": [],
   "source": [
    "cursor = collection_reference.find()"
   ]
  },
  {
   "cell_type": "code",
   "execution_count": 5,
   "metadata": {},
   "outputs": [
    {
     "data": {
      "text/plain": [
       "{'_id': ObjectId('5b562057cfd9de0efb61d3b5'),\n",
       " 'created_at': 'Sat Jul 21 20:58:43 +0000 2018',\n",
       " 'id': 1020775097898917888,\n",
       " 'id_str': '1020775097898917888',\n",
       " 'text': 'Can’t wait to go home and play video games already smh',\n",
       " 'source': '<a href=\"http://twitter.com/download/iphone\" rel=\"nofollow\">Twitter for iPhone</a>',\n",
       " 'truncated': False,\n",
       " 'in_reply_to_status_id': None,\n",
       " 'in_reply_to_status_id_str': None,\n",
       " 'in_reply_to_user_id': None,\n",
       " 'in_reply_to_user_id_str': None,\n",
       " 'in_reply_to_screen_name': None,\n",
       " 'user': {'id': 3096943027,\n",
       "  'id_str': '3096943027',\n",
       "  'name': 'mattygeee',\n",
       "  'screen_name': 'Mattygeee1',\n",
       "  'location': 'Los Angeles, CA',\n",
       "  'url': None,\n",
       "  'description': None,\n",
       "  'translator_type': 'none',\n",
       "  'protected': False,\n",
       "  'verified': False,\n",
       "  'followers_count': 286,\n",
       "  'friends_count': 399,\n",
       "  'listed_count': 4,\n",
       "  'favourites_count': 7501,\n",
       "  'statuses_count': 17775,\n",
       "  'created_at': 'Thu Mar 19 01:14:05 +0000 2015',\n",
       "  'utc_offset': None,\n",
       "  'time_zone': None,\n",
       "  'geo_enabled': True,\n",
       "  'lang': 'en',\n",
       "  'contributors_enabled': False,\n",
       "  'is_translator': False,\n",
       "  'profile_background_color': '000000',\n",
       "  'profile_background_image_url': 'http://abs.twimg.com/images/themes/theme1/bg.png',\n",
       "  'profile_background_image_url_https': 'https://abs.twimg.com/images/themes/theme1/bg.png',\n",
       "  'profile_background_tile': False,\n",
       "  'profile_link_color': 'E81C4F',\n",
       "  'profile_sidebar_border_color': '000000',\n",
       "  'profile_sidebar_fill_color': '000000',\n",
       "  'profile_text_color': '000000',\n",
       "  'profile_use_background_image': False,\n",
       "  'profile_image_url': 'http://pbs.twimg.com/profile_images/976278641431650304/QDCKALf8_normal.jpg',\n",
       "  'profile_image_url_https': 'https://pbs.twimg.com/profile_images/976278641431650304/QDCKALf8_normal.jpg',\n",
       "  'profile_banner_url': 'https://pbs.twimg.com/profile_banners/3096943027/1522005281',\n",
       "  'default_profile': False,\n",
       "  'default_profile_image': False,\n",
       "  'following': None,\n",
       "  'follow_request_sent': None,\n",
       "  'notifications': None},\n",
       " 'geo': None,\n",
       " 'coordinates': None,\n",
       " 'place': {'id': '59612bd882018c51',\n",
       "  'url': 'https://api.twitter.com/1.1/geo/id/59612bd882018c51.json',\n",
       "  'place_type': 'city',\n",
       "  'name': 'Santa Monica',\n",
       "  'full_name': 'Santa Monica, CA',\n",
       "  'country_code': 'US',\n",
       "  'country': 'United States',\n",
       "  'bounding_box': {'type': 'Polygon',\n",
       "   'coordinates': [[[-118.517358, 33.995177],\n",
       "     [-118.517358, 34.050199],\n",
       "     [-118.443482, 34.050199],\n",
       "     [-118.443482, 33.995177]]]},\n",
       "  'attributes': {}},\n",
       " 'contributors': None,\n",
       " 'is_quote_status': False,\n",
       " 'quote_count': 0,\n",
       " 'reply_count': 0,\n",
       " 'retweet_count': 0,\n",
       " 'favorite_count': 0,\n",
       " 'entities': {'hashtags': [], 'urls': [], 'user_mentions': [], 'symbols': []},\n",
       " 'favorited': False,\n",
       " 'retweeted': False,\n",
       " 'filter_level': 'low',\n",
       " 'lang': 'en',\n",
       " 'timestamp_ms': '1532206723080'}"
      ]
     },
     "execution_count": 5,
     "metadata": {},
     "output_type": "execute_result"
    }
   ],
   "source": [
    "next(cursor)"
   ]
  },
  {
   "cell_type": "code",
   "execution_count": 6,
   "metadata": {},
   "outputs": [],
   "source": [
    "cursor = collection_reference.find()"
   ]
  },
  {
   "cell_type": "code",
   "execution_count": 8,
   "metadata": {},
   "outputs": [
    {
     "name": "stderr",
     "output_type": "stream",
     "text": [
      "/opt/conda/lib/python3.6/site-packages/ipykernel_launcher.py:1: DeprecationWarning: count is deprecated. Use Collection.count_documents instead.\n",
      "  \"\"\"Entry point for launching an IPython kernel.\n"
     ]
    },
    {
     "data": {
      "text/plain": [
       "11748"
      ]
     },
     "execution_count": 8,
     "metadata": {},
     "output_type": "execute_result"
    }
   ],
   "source": [
    "cursor.count()"
   ]
  },
  {
   "cell_type": "code",
   "execution_count": 9,
   "metadata": {},
   "outputs": [
    {
     "data": {
      "text/plain": [
       "11748"
      ]
     },
     "execution_count": 9,
     "metadata": {},
     "output_type": "execute_result"
    }
   ],
   "source": [
    "collection_reference.count_documents({})"
   ]
  },
  {
   "cell_type": "code",
   "execution_count": 13,
   "metadata": {},
   "outputs": [],
   "source": [
    "cursor_sampl = collection_reference.aggregate(\n",
    "    [{'$sample': {'size': 20}}]\n",
    ")"
   ]
  },
  {
   "cell_type": "code",
   "execution_count": 14,
   "metadata": {},
   "outputs": [
    {
     "data": {
      "text/plain": [
       "20"
      ]
     },
     "execution_count": 14,
     "metadata": {},
     "output_type": "execute_result"
    }
   ],
   "source": [
    "len(list(cursor_sampl)) "
   ]
  },
  {
   "cell_type": "code",
   "execution_count": 15,
   "metadata": {},
   "outputs": [
    {
     "ename": "StopIteration",
     "evalue": "",
     "output_type": "error",
     "traceback": [
      "\u001b[0;31m---------------------------------------------------------------------------\u001b[0m",
      "\u001b[0;31mStopIteration\u001b[0m                             Traceback (most recent call last)",
      "\u001b[0;32m<ipython-input-15-96be4d43b38c>\u001b[0m in \u001b[0;36m<module>\u001b[0;34m()\u001b[0m\n\u001b[0;32m----> 1\u001b[0;31m \u001b[0mnext\u001b[0m\u001b[0;34m(\u001b[0m\u001b[0mcursor_sampl\u001b[0m\u001b[0;34m)\u001b[0m\u001b[0;34m\u001b[0m\u001b[0m\n\u001b[0m",
      "\u001b[0;32m/opt/conda/lib/python3.6/site-packages/pymongo/command_cursor.py\u001b[0m in \u001b[0;36mnext\u001b[0;34m(self)\u001b[0m\n\u001b[1;32m    292\u001b[0m             \u001b[0;32mreturn\u001b[0m \u001b[0mcoll\u001b[0m\u001b[0;34m.\u001b[0m\u001b[0mdatabase\u001b[0m\u001b[0;34m.\u001b[0m\u001b[0m_fix_outgoing\u001b[0m\u001b[0;34m(\u001b[0m\u001b[0mself\u001b[0m\u001b[0;34m.\u001b[0m\u001b[0m__data\u001b[0m\u001b[0;34m.\u001b[0m\u001b[0mpopleft\u001b[0m\u001b[0;34m(\u001b[0m\u001b[0;34m)\u001b[0m\u001b[0;34m,\u001b[0m \u001b[0mcoll\u001b[0m\u001b[0;34m)\u001b[0m\u001b[0;34m\u001b[0m\u001b[0m\n\u001b[1;32m    293\u001b[0m         \u001b[0;32melse\u001b[0m\u001b[0;34m:\u001b[0m\u001b[0;34m\u001b[0m\u001b[0m\n\u001b[0;32m--> 294\u001b[0;31m             \u001b[0;32mraise\u001b[0m \u001b[0mStopIteration\u001b[0m\u001b[0;34m\u001b[0m\u001b[0m\n\u001b[0m\u001b[1;32m    295\u001b[0m \u001b[0;34m\u001b[0m\u001b[0m\n\u001b[1;32m    296\u001b[0m     \u001b[0m__next__\u001b[0m \u001b[0;34m=\u001b[0m \u001b[0mnext\u001b[0m\u001b[0;34m\u001b[0m\u001b[0m\n",
      "\u001b[0;31mStopIteration\u001b[0m: "
     ]
    }
   ],
   "source": [
    "next(cursor_sampl)"
   ]
  },
  {
   "cell_type": "code",
   "execution_count": 22,
   "metadata": {},
   "outputs": [],
   "source": [
    "cursor_sampl = collection_reference.aggregate([{'$sample': {'size': 1}}])"
   ]
  },
  {
   "cell_type": "code",
   "execution_count": 23,
   "metadata": {},
   "outputs": [],
   "source": [
    "tw = next(cursor_sampl)"
   ]
  },
  {
   "cell_type": "code",
   "execution_count": 26,
   "metadata": {
    "scrolled": true
   },
   "outputs": [
    {
     "data": {
      "text/plain": [
       "dict_keys(['_id', 'created_at', 'id', 'id_str', 'text', 'display_text_range', 'source', 'truncated', 'in_reply_to_status_id', 'in_reply_to_status_id_str', 'in_reply_to_user_id', 'in_reply_to_user_id_str', 'in_reply_to_screen_name', 'user', 'geo', 'coordinates', 'place', 'contributors', 'quoted_status_id', 'quoted_status_id_str', 'quoted_status', 'quoted_status_permalink', 'is_quote_status', 'quote_count', 'reply_count', 'retweet_count', 'favorite_count', 'entities', 'favorited', 'retweeted', 'possibly_sensitive', 'filter_level', 'lang', 'timestamp_ms'])"
      ]
     },
     "execution_count": 26,
     "metadata": {},
     "output_type": "execute_result"
    }
   ],
   "source": [
    "tw.keys()"
   ]
  },
  {
   "cell_type": "code",
   "execution_count": 27,
   "metadata": {},
   "outputs": [
    {
     "data": {
      "text/plain": [
       "[ObjectId('5b58acba3aed5a010fe90da6'),\n",
       " 'Wed Jul 25 16:55:52 +0000 2018',\n",
       " 1022163536615694337,\n",
       " '1022163536615694337',\n",
       " 'thats nuts https://t.co/NzAyrN6j1v']"
      ]
     },
     "execution_count": 27,
     "metadata": {},
     "output_type": "execute_result"
    }
   ],
   "source": [
    "list(tw.values())[:5]"
   ]
  },
  {
   "cell_type": "code",
   "execution_count": 28,
   "metadata": {},
   "outputs": [],
   "source": [
    "import pandas as pd"
   ]
  },
  {
   "cell_type": "code",
   "execution_count": 29,
   "metadata": {},
   "outputs": [],
   "source": [
    "cursor = collection_reference.aggregate([{'$sample': {'size': 5}}])\n",
    "\n",
    "tw_sample_df = pd.DataFrame(list(cursor))"
   ]
  },
  {
   "cell_type": "code",
   "execution_count": 30,
   "metadata": {},
   "outputs": [
    {
     "data": {
      "text/plain": [
       "_id                           object\n",
       "contributors                  object\n",
       "coordinates                   object\n",
       "created_at                    object\n",
       "display_text_range            object\n",
       "entities                      object\n",
       "extended_tweet                object\n",
       "favorite_count                 int64\n",
       "favorited                       bool\n",
       "filter_level                  object\n",
       "geo                           object\n",
       "id                             int64\n",
       "id_str                        object\n",
       "in_reply_to_screen_name       object\n",
       "in_reply_to_status_id        float64\n",
       "in_reply_to_status_id_str     object\n",
       "in_reply_to_user_id          float64\n",
       "in_reply_to_user_id_str       object\n",
       "is_quote_status                 bool\n",
       "lang                          object\n",
       "place                         object\n",
       "possibly_sensitive            object\n",
       "quote_count                    int64\n",
       "reply_count                    int64\n",
       "retweet_count                  int64\n",
       "retweeted                       bool\n",
       "source                        object\n",
       "text                          object\n",
       "timestamp_ms                  object\n",
       "truncated                       bool\n",
       "user                          object\n",
       "dtype: object"
      ]
     },
     "execution_count": 30,
     "metadata": {},
     "output_type": "execute_result"
    }
   ],
   "source": [
    "tw_sample_df.dtypes"
   ]
  },
  {
   "cell_type": "code",
   "execution_count": 31,
   "metadata": {},
   "outputs": [
    {
     "data": {
      "text/html": [
       "<div>\n",
       "<style scoped>\n",
       "    .dataframe tbody tr th:only-of-type {\n",
       "        vertical-align: middle;\n",
       "    }\n",
       "\n",
       "    .dataframe tbody tr th {\n",
       "        vertical-align: top;\n",
       "    }\n",
       "\n",
       "    .dataframe thead th {\n",
       "        text-align: right;\n",
       "    }\n",
       "</style>\n",
       "<table border=\"1\" class=\"dataframe\">\n",
       "  <thead>\n",
       "    <tr style=\"text-align: right;\">\n",
       "      <th></th>\n",
       "      <th>favorite_count</th>\n",
       "      <th>id</th>\n",
       "      <th>quote_count</th>\n",
       "      <th>reply_count</th>\n",
       "      <th>retweet_count</th>\n",
       "    </tr>\n",
       "  </thead>\n",
       "  <tbody>\n",
       "    <tr>\n",
       "      <th>0</th>\n",
       "      <td>0</td>\n",
       "      <td>1022175928812589056</td>\n",
       "      <td>0</td>\n",
       "      <td>0</td>\n",
       "      <td>0</td>\n",
       "    </tr>\n",
       "    <tr>\n",
       "      <th>1</th>\n",
       "      <td>0</td>\n",
       "      <td>1022300371669069824</td>\n",
       "      <td>0</td>\n",
       "      <td>0</td>\n",
       "      <td>0</td>\n",
       "    </tr>\n",
       "    <tr>\n",
       "      <th>2</th>\n",
       "      <td>0</td>\n",
       "      <td>1022288863878729729</td>\n",
       "      <td>0</td>\n",
       "      <td>0</td>\n",
       "      <td>0</td>\n",
       "    </tr>\n",
       "    <tr>\n",
       "      <th>3</th>\n",
       "      <td>0</td>\n",
       "      <td>1020775097898917888</td>\n",
       "      <td>0</td>\n",
       "      <td>0</td>\n",
       "      <td>0</td>\n",
       "    </tr>\n",
       "    <tr>\n",
       "      <th>4</th>\n",
       "      <td>0</td>\n",
       "      <td>1022299225898381313</td>\n",
       "      <td>0</td>\n",
       "      <td>0</td>\n",
       "      <td>0</td>\n",
       "    </tr>\n",
       "  </tbody>\n",
       "</table>\n",
       "</div>"
      ],
      "text/plain": [
       "   favorite_count                   id  quote_count  reply_count  \\\n",
       "0               0  1022175928812589056            0            0   \n",
       "1               0  1022300371669069824            0            0   \n",
       "2               0  1022288863878729729            0            0   \n",
       "3               0  1020775097898917888            0            0   \n",
       "4               0  1022299225898381313            0            0   \n",
       "\n",
       "   retweet_count  \n",
       "0              0  \n",
       "1              0  \n",
       "2              0  \n",
       "3              0  \n",
       "4              0  "
      ]
     },
     "execution_count": 31,
     "metadata": {},
     "output_type": "execute_result"
    }
   ],
   "source": [
    "tw_sample_df.select_dtypes([int])"
   ]
  },
  {
   "cell_type": "code",
   "execution_count": 32,
   "metadata": {},
   "outputs": [
    {
     "data": {
      "text/html": [
       "<div>\n",
       "<style scoped>\n",
       "    .dataframe tbody tr th:only-of-type {\n",
       "        vertical-align: middle;\n",
       "    }\n",
       "\n",
       "    .dataframe tbody tr th {\n",
       "        vertical-align: top;\n",
       "    }\n",
       "\n",
       "    .dataframe thead th {\n",
       "        text-align: right;\n",
       "    }\n",
       "</style>\n",
       "<table border=\"1\" class=\"dataframe\">\n",
       "  <thead>\n",
       "    <tr style=\"text-align: right;\">\n",
       "      <th></th>\n",
       "      <th>in_reply_to_status_id</th>\n",
       "      <th>in_reply_to_user_id</th>\n",
       "    </tr>\n",
       "  </thead>\n",
       "  <tbody>\n",
       "    <tr>\n",
       "      <th>0</th>\n",
       "      <td>NaN</td>\n",
       "      <td>NaN</td>\n",
       "    </tr>\n",
       "    <tr>\n",
       "      <th>1</th>\n",
       "      <td>NaN</td>\n",
       "      <td>NaN</td>\n",
       "    </tr>\n",
       "    <tr>\n",
       "      <th>2</th>\n",
       "      <td>1.021782e+18</td>\n",
       "      <td>54412900.0</td>\n",
       "    </tr>\n",
       "    <tr>\n",
       "      <th>3</th>\n",
       "      <td>NaN</td>\n",
       "      <td>NaN</td>\n",
       "    </tr>\n",
       "    <tr>\n",
       "      <th>4</th>\n",
       "      <td>NaN</td>\n",
       "      <td>NaN</td>\n",
       "    </tr>\n",
       "  </tbody>\n",
       "</table>\n",
       "</div>"
      ],
      "text/plain": [
       "   in_reply_to_status_id  in_reply_to_user_id\n",
       "0                    NaN                  NaN\n",
       "1                    NaN                  NaN\n",
       "2           1.021782e+18           54412900.0\n",
       "3                    NaN                  NaN\n",
       "4                    NaN                  NaN"
      ]
     },
     "execution_count": 32,
     "metadata": {},
     "output_type": "execute_result"
    }
   ],
   "source": [
    "tw_sample_df.select_dtypes([float])"
   ]
  },
  {
   "cell_type": "code",
   "execution_count": 37,
   "metadata": {
    "scrolled": false
   },
   "outputs": [
    {
     "data": {
      "text/html": [
       "<div>\n",
       "<style scoped>\n",
       "    .dataframe tbody tr th:only-of-type {\n",
       "        vertical-align: middle;\n",
       "    }\n",
       "\n",
       "    .dataframe tbody tr th {\n",
       "        vertical-align: top;\n",
       "    }\n",
       "\n",
       "    .dataframe thead th {\n",
       "        text-align: right;\n",
       "    }\n",
       "</style>\n",
       "<table border=\"1\" class=\"dataframe\">\n",
       "  <thead>\n",
       "    <tr style=\"text-align: right;\">\n",
       "      <th></th>\n",
       "      <th>_id</th>\n",
       "      <th>contributors</th>\n",
       "      <th>coordinates</th>\n",
       "      <th>display_text_range</th>\n",
       "      <th>entities</th>\n",
       "      <th>extended_tweet</th>\n",
       "      <th>filter_level</th>\n",
       "      <th>geo</th>\n",
       "      <th>id_str</th>\n",
       "      <th>in_reply_to_screen_name</th>\n",
       "      <th>in_reply_to_status_id_str</th>\n",
       "      <th>in_reply_to_user_id_str</th>\n",
       "      <th>lang</th>\n",
       "      <th>place</th>\n",
       "      <th>possibly_sensitive</th>\n",
       "      <th>source</th>\n",
       "      <th>text</th>\n",
       "      <th>timestamp_ms</th>\n",
       "      <th>user</th>\n",
       "    </tr>\n",
       "  </thead>\n",
       "  <tbody>\n",
       "    <tr>\n",
       "      <th>0</th>\n",
       "      <td>5b58b8373aed5a010fe91774</td>\n",
       "      <td>None</td>\n",
       "      <td>None</td>\n",
       "      <td>[0, 140]</td>\n",
       "      <td>{'hashtags': [{'text': 'fantasy', 'indices': [...</td>\n",
       "      <td>{'full_text': 'Floating created by Leon Avanes...</td>\n",
       "      <td>low</td>\n",
       "      <td>None</td>\n",
       "      <td>1022175928812589056</td>\n",
       "      <td>None</td>\n",
       "      <td>None</td>\n",
       "      <td>None</td>\n",
       "      <td>en</td>\n",
       "      <td>{'id': 'fbd6d2f5a4e4a15e', 'url': 'https://api...</td>\n",
       "      <td>False</td>\n",
       "      <td>&lt;a href=\"http://twitter.com\" rel=\"nofollow\"&gt;Tw...</td>\n",
       "      <td>Floating created by Leon Avanesian\\nhttps://t....</td>\n",
       "      <td>1532540707196</td>\n",
       "      <td>{'id': 842869476416614400, 'id_str': '84286947...</td>\n",
       "    </tr>\n",
       "    <tr>\n",
       "      <th>1</th>\n",
       "      <td>5b592b4635c77d003438aa03</td>\n",
       "      <td>None</td>\n",
       "      <td>None</td>\n",
       "      <td>NaN</td>\n",
       "      <td>{'hashtags': [], 'urls': [{'url': 'https://t.c...</td>\n",
       "      <td>{'full_text': 'So the other day Richards mom o...</td>\n",
       "      <td>low</td>\n",
       "      <td>None</td>\n",
       "      <td>1022300371669069824</td>\n",
       "      <td>None</td>\n",
       "      <td>None</td>\n",
       "      <td>None</td>\n",
       "      <td>en</td>\n",
       "      <td>{'id': '3b77caf94bfc81fe', 'url': 'https://api...</td>\n",
       "      <td>NaN</td>\n",
       "      <td>&lt;a href=\"http://twitter.com/download/iphone\" r...</td>\n",
       "      <td>So the other day Richards mom offered to buy m...</td>\n",
       "      <td>1532570376685</td>\n",
       "      <td>{'id': 3181547449, 'id_str': '3181547449', 'na...</td>\n",
       "    </tr>\n",
       "    <tr>\n",
       "      <th>2</th>\n",
       "      <td>5b59232139cb64017fc81e48</td>\n",
       "      <td>None</td>\n",
       "      <td>None</td>\n",
       "      <td>[12, 114]</td>\n",
       "      <td>{'hashtags': [{'text': 'family', 'indices': [1...</td>\n",
       "      <td>NaN</td>\n",
       "      <td>low</td>\n",
       "      <td>None</td>\n",
       "      <td>1022288863878729729</td>\n",
       "      <td>DevinNunes</td>\n",
       "      <td>1021781905929396225</td>\n",
       "      <td>54412900</td>\n",
       "      <td>en</td>\n",
       "      <td>{'id': '3b77caf94bfc81fe', 'url': 'https://api...</td>\n",
       "      <td>NaN</td>\n",
       "      <td>&lt;a href=\"http://twitter.com/download/iphone\" r...</td>\n",
       "      <td>@DevinNunes Trump is Putin’s bitch.  And you a...</td>\n",
       "      <td>1532567633014</td>\n",
       "      <td>{'id': 558830371, 'id_str': '558830371', 'name...</td>\n",
       "    </tr>\n",
       "    <tr>\n",
       "      <th>3</th>\n",
       "      <td>5b5923de0cff4002d5673f84</td>\n",
       "      <td>None</td>\n",
       "      <td>None</td>\n",
       "      <td>NaN</td>\n",
       "      <td>{'hashtags': [], 'urls': [], 'user_mentions': ...</td>\n",
       "      <td>NaN</td>\n",
       "      <td>low</td>\n",
       "      <td>None</td>\n",
       "      <td>1020775097898917888</td>\n",
       "      <td>None</td>\n",
       "      <td>None</td>\n",
       "      <td>None</td>\n",
       "      <td>en</td>\n",
       "      <td>{'id': '59612bd882018c51', 'url': 'https://api...</td>\n",
       "      <td>NaN</td>\n",
       "      <td>&lt;a href=\"http://twitter.com/download/iphone\" r...</td>\n",
       "      <td>Can’t wait to go home and play video games alr...</td>\n",
       "      <td>1532206723080</td>\n",
       "      <td>{'id': 3096943027, 'id_str': '3096943027', 'na...</td>\n",
       "    </tr>\n",
       "    <tr>\n",
       "      <th>4</th>\n",
       "      <td>5b592a5135c77d003438a920</td>\n",
       "      <td>None</td>\n",
       "      <td>None</td>\n",
       "      <td>NaN</td>\n",
       "      <td>{'hashtags': [], 'urls': [], 'user_mentions': ...</td>\n",
       "      <td>NaN</td>\n",
       "      <td>low</td>\n",
       "      <td>None</td>\n",
       "      <td>1022299225898381313</td>\n",
       "      <td>None</td>\n",
       "      <td>None</td>\n",
       "      <td>None</td>\n",
       "      <td>en</td>\n",
       "      <td>{'id': 'fbd6d2f5a4e4a15e', 'url': 'https://api...</td>\n",
       "      <td>NaN</td>\n",
       "      <td>&lt;a href=\"http://twitter.com/download/iphone\" r...</td>\n",
       "      <td>relationships are kinda like acid</td>\n",
       "      <td>1532570103512</td>\n",
       "      <td>{'id': 4422532634, 'id_str': '4422532634', 'na...</td>\n",
       "    </tr>\n",
       "  </tbody>\n",
       "</table>\n",
       "</div>"
      ],
      "text/plain": [
       "                        _id contributors coordinates display_text_range  \\\n",
       "0  5b58b8373aed5a010fe91774         None        None           [0, 140]   \n",
       "1  5b592b4635c77d003438aa03         None        None                NaN   \n",
       "2  5b59232139cb64017fc81e48         None        None          [12, 114]   \n",
       "3  5b5923de0cff4002d5673f84         None        None                NaN   \n",
       "4  5b592a5135c77d003438a920         None        None                NaN   \n",
       "\n",
       "                                            entities  \\\n",
       "0  {'hashtags': [{'text': 'fantasy', 'indices': [...   \n",
       "1  {'hashtags': [], 'urls': [{'url': 'https://t.c...   \n",
       "2  {'hashtags': [{'text': 'family', 'indices': [1...   \n",
       "3  {'hashtags': [], 'urls': [], 'user_mentions': ...   \n",
       "4  {'hashtags': [], 'urls': [], 'user_mentions': ...   \n",
       "\n",
       "                                      extended_tweet filter_level   geo  \\\n",
       "0  {'full_text': 'Floating created by Leon Avanes...          low  None   \n",
       "1  {'full_text': 'So the other day Richards mom o...          low  None   \n",
       "2                                                NaN          low  None   \n",
       "3                                                NaN          low  None   \n",
       "4                                                NaN          low  None   \n",
       "\n",
       "                id_str in_reply_to_screen_name in_reply_to_status_id_str  \\\n",
       "0  1022175928812589056                    None                      None   \n",
       "1  1022300371669069824                    None                      None   \n",
       "2  1022288863878729729              DevinNunes       1021781905929396225   \n",
       "3  1020775097898917888                    None                      None   \n",
       "4  1022299225898381313                    None                      None   \n",
       "\n",
       "  in_reply_to_user_id_str lang  \\\n",
       "0                    None   en   \n",
       "1                    None   en   \n",
       "2                54412900   en   \n",
       "3                    None   en   \n",
       "4                    None   en   \n",
       "\n",
       "                                               place possibly_sensitive  \\\n",
       "0  {'id': 'fbd6d2f5a4e4a15e', 'url': 'https://api...              False   \n",
       "1  {'id': '3b77caf94bfc81fe', 'url': 'https://api...                NaN   \n",
       "2  {'id': '3b77caf94bfc81fe', 'url': 'https://api...                NaN   \n",
       "3  {'id': '59612bd882018c51', 'url': 'https://api...                NaN   \n",
       "4  {'id': 'fbd6d2f5a4e4a15e', 'url': 'https://api...                NaN   \n",
       "\n",
       "                                              source  \\\n",
       "0  <a href=\"http://twitter.com\" rel=\"nofollow\">Tw...   \n",
       "1  <a href=\"http://twitter.com/download/iphone\" r...   \n",
       "2  <a href=\"http://twitter.com/download/iphone\" r...   \n",
       "3  <a href=\"http://twitter.com/download/iphone\" r...   \n",
       "4  <a href=\"http://twitter.com/download/iphone\" r...   \n",
       "\n",
       "                                                text   timestamp_ms  \\\n",
       "0  Floating created by Leon Avanesian\\nhttps://t....  1532540707196   \n",
       "1  So the other day Richards mom offered to buy m...  1532570376685   \n",
       "2  @DevinNunes Trump is Putin’s bitch.  And you a...  1532567633014   \n",
       "3  Can’t wait to go home and play video games alr...  1532206723080   \n",
       "4                  relationships are kinda like acid  1532570103512   \n",
       "\n",
       "                                                user  \n",
       "0  {'id': 842869476416614400, 'id_str': '84286947...  \n",
       "1  {'id': 3181547449, 'id_str': '3181547449', 'na...  \n",
       "2  {'id': 558830371, 'id_str': '558830371', 'name...  \n",
       "3  {'id': 3096943027, 'id_str': '3096943027', 'na...  \n",
       "4  {'id': 4422532634, 'id_str': '4422532634', 'na...  "
      ]
     },
     "execution_count": 37,
     "metadata": {},
     "output_type": "execute_result"
    }
   ],
   "source": [
    "tw_sample_df.select_dtypes(['object'])"
   ]
  },
  {
   "cell_type": "code",
   "execution_count": 38,
   "metadata": {},
   "outputs": [],
   "source": [
    "tw_sample_df['created_at'] = pd.to_datetime(tw_sample_df['created_at'])"
   ]
  },
  {
   "cell_type": "code",
   "execution_count": 39,
   "metadata": {},
   "outputs": [
    {
     "data": {
      "text/plain": [
       "0   2018-07-25 17:45:07\n",
       "1   2018-07-26 01:59:36\n",
       "2   2018-07-26 01:13:53\n",
       "3   2018-07-21 20:58:43\n",
       "4   2018-07-26 01:55:03\n",
       "Name: created_at, dtype: datetime64[ns]"
      ]
     },
     "execution_count": 39,
     "metadata": {},
     "output_type": "execute_result"
    }
   ],
   "source": [
    "tw_sample_df.created_at"
   ]
  },
  {
   "cell_type": "markdown",
   "metadata": {},
   "source": [
    "## Tweets Containing Geo Information"
   ]
  },
  {
   "cell_type": "code",
   "execution_count": 40,
   "metadata": {},
   "outputs": [
    {
     "data": {
      "text/plain": [
       "<pymongo.cursor.Cursor at 0x7fabea8e0940>"
      ]
     },
     "execution_count": 40,
     "metadata": {},
     "output_type": "execute_result"
    }
   ],
   "source": [
    "contain_geo_search = collection_reference.find({'geo' : { '$ne' : None}})\n",
    "contain_geo_search"
   ]
  },
  {
   "cell_type": "code",
   "execution_count": 41,
   "metadata": {},
   "outputs": [
    {
     "data": {
      "text/plain": [
       "1581"
      ]
     },
     "execution_count": 41,
     "metadata": {},
     "output_type": "execute_result"
    }
   ],
   "source": [
    "collection_reference.count_documents({'geo' : { '$ne' : None}})"
   ]
  },
  {
   "cell_type": "markdown",
   "metadata": {},
   "source": [
    "## Distinct Users\n",
    "\n",
    "#### TRY THIS"
   ]
  },
  {
   "cell_type": "code",
   "execution_count": 31,
   "metadata": {},
   "outputs": [
    {
     "data": {
      "text/plain": [
       "2147"
      ]
     },
     "execution_count": 31,
     "metadata": {},
     "output_type": "execute_result"
    }
   ],
   "source": [
    "len(collection_reference.distinct('user'))"
   ]
  },
  {
   "cell_type": "code",
   "execution_count": null,
   "metadata": {},
   "outputs": [],
   "source": []
  }
 ],
 "metadata": {
  "kernelspec": {
   "display_name": "Python 3",
   "language": "python",
   "name": "python3"
  },
  "language_info": {
   "codemirror_mode": {
    "name": "ipython",
    "version": 3
   },
   "file_extension": ".py",
   "mimetype": "text/x-python",
   "name": "python",
   "nbconvert_exporter": "python",
   "pygments_lexer": "ipython3",
   "version": "3.6.5"
  }
 },
 "nbformat": 4,
 "nbformat_minor": 2
}
