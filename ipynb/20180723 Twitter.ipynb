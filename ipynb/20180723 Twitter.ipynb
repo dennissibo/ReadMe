{
 "cells": [
  {
   "cell_type": "code",
   "execution_count": 1,
   "metadata": {},
   "outputs": [
    {
     "name": "stdout",
     "output_type": "stream",
     "text": [
      "Requirement already satisfied: pymongo in /opt/conda/lib/python3.6/site-packages (3.7.1)\r\n"
     ]
    }
   ],
   "source": [
    "!pip install pymongo"
   ]
  },
  {
   "cell_type": "code",
   "execution_count": 22,
   "metadata": {},
   "outputs": [],
   "source": [
    "from lib import create_tweet_iterator"
   ]
  },
  {
   "cell_type": "code",
   "execution_count": 23,
   "metadata": {},
   "outputs": [],
   "source": [
    "token           = \"3017190277-12fpkX5N8yTIQEnZO45QvDyb5csP4qYC0ORF17x\"\n",
    "token_secret    = \"fApN7t3dsc36U0YlzPwIXvPVidiL8oxDyXKO1Ms5lwzTS\"      \n",
    "consumer_key    = \"XdBpHe5lvsFH4p8XdTuRwvqgF\"       \n",
    "consumer_secret = \"IaPidG2iFsvdC7BrSkdu6AhZ0BaFWrj0KubW3hlzC29S1XGNvi\""
   ]
  },
  {
   "cell_type": "code",
   "execution_count": 24,
   "metadata": {},
   "outputs": [],
   "source": [
    "bounding_box = '-118.5137323688,34.0001996344,-118.4702449172,34.0331651696'"
   ]
  },
  {
   "cell_type": "code",
   "execution_count": 28,
   "metadata": {},
   "outputs": [],
   "source": [
    "tweet_iterator = create_tweet_iterator(token,\n",
    "                                       token_secret,\n",
    "                                       consumer_key,\n",
    "                                       consumer_secret,\n",
    "                                       bounding_box)"
   ]
  },
  {
   "cell_type": "code",
   "execution_count": 29,
   "metadata": {},
   "outputs": [],
   "source": [
    "tweets = []\n",
    "for _ in range(10):\n",
    "    tweets.append(next(tweet_iterator))"
   ]
  },
  {
   "cell_type": "code",
   "execution_count": 30,
   "metadata": {},
   "outputs": [
    {
     "name": "stdout",
     "output_type": "stream",
     "text": [
      "[{'created_at': 'Tue Jul 24 02:25:36 +0000 2018', 'id': 1021582138787778560, 'id_str': '1021582138787778560', 'text': 'If my man don’t have this energy i don’t want him! https://t.co/WmmgOkFuXO', 'display_text_range': [0, 50], 'source': '<a href=\"http://twitter.com/download/iphone\" rel=\"nofollow\">Twitter for iPhone</a>', 'truncated': False, 'in_reply_to_status_id': None, 'in_reply_to_status_id_str': None, 'in_reply_to_user_id': None, 'in_reply_to_user_id_str': None, 'in_reply_to_screen_name': None, 'user': {'id': 2278854920, 'id_str': '2278854920', 'name': 'Jocelyne', 'screen_name': 'Joclynnexo', 'location': 'Los Angeles, CA', 'url': None, 'description': 'living life ✨', 'translator_type': 'none', 'protected': False, 'verified': False, 'followers_count': 187, 'friends_count': 164, 'listed_count': 0, 'favourites_count': 2833, 'statuses_count': 13817, 'created_at': 'Mon Jan 06 09:47:31 +0000 2014', 'utc_offset': None, 'time_zone': None, 'geo_enabled': True, 'lang': 'en', 'contributors_enabled': False, 'is_translator': False, 'profile_background_color': 'B52F60', 'profile_background_image_url': 'http://abs.twimg.com/images/themes/theme1/bg.png', 'profile_background_image_url_https': 'https://abs.twimg.com/images/themes/theme1/bg.png', 'profile_background_tile': True, 'profile_link_color': '080808', 'profile_sidebar_border_color': 'FFFFFF', 'profile_sidebar_fill_color': 'DDEEF6', 'profile_text_color': '333333', 'profile_use_background_image': True, 'profile_image_url': 'http://pbs.twimg.com/profile_images/1021308792011513857/yr2yAceS_normal.jpg', 'profile_image_url_https': 'https://pbs.twimg.com/profile_images/1021308792011513857/yr2yAceS_normal.jpg', 'profile_banner_url': 'https://pbs.twimg.com/profile_banners/2278854920/1531531023', 'default_profile': False, 'default_profile_image': False, 'following': None, 'follow_request_sent': None, 'notifications': None}, 'geo': None, 'coordinates': None, 'place': {'id': '3b77caf94bfc81fe', 'url': 'https://api.twitter.com/1.1/geo/id/3b77caf94bfc81fe.json', 'place_type': 'city', 'name': 'Los Angeles', 'full_name': 'Los Angeles, CA', 'country_code': 'US', 'country': 'United States', 'bounding_box': {'type': 'Polygon', 'coordinates': [[[-118.668404, 33.704538], [-118.668404, 34.337041], [-118.155409, 34.337041], [-118.155409, 33.704538]]]}, 'attributes': {}}, 'contributors': None, 'quoted_status_id': 1021530277582188545, 'quoted_status_id_str': '1021530277582188545', 'quoted_status': {'created_at': 'Mon Jul 23 22:59:31 +0000 2018', 'id': 1021530277582188545, 'id_str': '1021530277582188545', 'text': 'My girl just sent me the most 🔥 selfies oh my fucking god 😩😍', 'source': '<a href=\"http://twitter.com/download/iphone\" rel=\"nofollow\">Twitter for iPhone</a>', 'truncated': False, 'in_reply_to_status_id': None, 'in_reply_to_status_id_str': None, 'in_reply_to_user_id': None, 'in_reply_to_user_id_str': None, 'in_reply_to_screen_name': None, 'user': {'id': 285482901, 'id_str': '285482901', 'name': 'Nate Ontiveros 𓅓', 'screen_name': 'NATEGAWD', 'location': 'Dallas, TX', 'url': 'https://youtu.be/taMvmszbwlc', 'description': '25 | Proud Dad • Youtuber • IG/SC: nategawd • SUBSCRIBE TO MY YOUTUBE CHANNEL ⬇️', 'translator_type': 'none', 'protected': False, 'verified': False, 'followers_count': 24656, 'friends_count': 7633, 'listed_count': 271, 'favourites_count': 1220, 'statuses_count': 93622, 'created_at': 'Thu Apr 21 07:06:22 +0000 2011', 'utc_offset': None, 'time_zone': None, 'geo_enabled': True, 'lang': 'en', 'contributors_enabled': False, 'is_translator': False, 'profile_background_color': '131516', 'profile_background_image_url': 'http://abs.twimg.com/images/themes/theme14/bg.gif', 'profile_background_image_url_https': 'https://abs.twimg.com/images/themes/theme14/bg.gif', 'profile_background_tile': True, 'profile_link_color': '009999', 'profile_sidebar_border_color': 'EEEEEE', 'profile_sidebar_fill_color': 'EFEFEF', 'profile_text_color': '333333', 'profile_use_background_image': True, 'profile_image_url': 'http://pbs.twimg.com/profile_images/1019265601196478471/JcAzrbiK_normal.jpg', 'profile_image_url_https': 'https://pbs.twimg.com/profile_images/1019265601196478471/JcAzrbiK_normal.jpg', 'profile_banner_url': 'https://pbs.twimg.com/profile_banners/285482901/1521242489', 'default_profile': False, 'default_profile_image': False, 'following': None, 'follow_request_sent': None, 'notifications': None}, 'geo': None, 'coordinates': None, 'place': {'id': '352cf4e7314da0b4', 'url': 'https://api.twitter.com/1.1/geo/id/352cf4e7314da0b4.json', 'place_type': 'city', 'name': 'Grapevine', 'full_name': 'Grapevine, TX', 'country_code': 'US', 'country': 'United States', 'bounding_box': {'type': 'Polygon', 'coordinates': [[[-97.129669, 32.878571], [-97.129669, 32.985097], [-97.029639, 32.985097], [-97.029639, 32.878571]]]}, 'attributes': {}}, 'contributors': None, 'is_quote_status': False, 'quote_count': 10, 'reply_count': 1, 'retweet_count': 5, 'favorite_count': 157, 'entities': {'hashtags': [], 'urls': [], 'user_mentions': [], 'symbols': []}, 'favorited': False, 'retweeted': False, 'filter_level': 'low', 'lang': 'en'}, 'quoted_status_permalink': {'url': 'https://t.co/WmmgOkFuXO', 'expanded': 'https://twitter.com/nategawd/status/1021530277582188545', 'display': 'twitter.com/nategawd/statu…'}, 'is_quote_status': True, 'quote_count': 0, 'reply_count': 0, 'retweet_count': 0, 'favorite_count': 0, 'entities': {'hashtags': [], 'urls': [{'url': 'https://t.co/WmmgOkFuXO', 'expanded_url': 'https://twitter.com/nategawd/status/1021530277582188545', 'display_url': 'twitter.com/nategawd/statu…', 'indices': [51, 74]}], 'user_mentions': [], 'symbols': []}, 'favorited': False, 'retweeted': False, 'possibly_sensitive': False, 'filter_level': 'low', 'lang': 'en', 'timestamp_ms': '1532399136622'}, {'created_at': 'Tue Jul 24 02:25:38 +0000 2018', 'id': 1021582144685072384, 'id_str': '1021582144685072384', 'text': \"[단독] 이삿짐처럼 증거 옮긴 드루킹 일당..경찰은 '수수방관'5t짜리 이삿짐 트럭 1대가 창고 단지로 들어오는 모습입니다. 잠시 뒤 잡동사니를 가득 실은 트럭과 함께 또 다른 이삿짐 트럭이 들어섭니다.(안상우)\", 'source': '<a href=\"http://twitter.com\" rel=\"nofollow\">Twitter Web Client</a>', 'truncated': False, 'in_reply_to_status_id': None, 'in_reply_to_status_id_str': None, 'in_reply_to_user_id': None, 'in_reply_to_user_id_str': None, 'in_reply_to_screen_name': None, 'user': {'id': 305774740, 'id_str': '305774740', 'name': '나라지키고', 'screen_name': 'chongjuhigh', 'location': 'Los Angeles, California', 'url': None, 'description': '한국(고국) 의 공산화를 걱정하는사람.6.25 를 직접목격한 사람.한국에서 법과졸업.중위제대.음악교사. 빈손으로 와서 미국생활55년차됨.80대트윗왕초보생.철모르는 젊은이들에게 죽기전에전해주어야할진실들을 전해주고싶다', 'translator_type': 'none', 'protected': False, 'verified': False, 'followers_count': 25036, 'friends_count': 26030, 'listed_count': 89, 'favourites_count': 54, 'statuses_count': 348978, 'created_at': 'Thu May 26 19:37:22 +0000 2011', 'utc_offset': None, 'time_zone': None, 'geo_enabled': True, 'lang': 'ko', 'contributors_enabled': False, 'is_translator': False, 'profile_background_color': 'ACDED6', 'profile_background_image_url': 'http://abs.twimg.com/images/themes/theme18/bg.gif', 'profile_background_image_url_https': 'https://abs.twimg.com/images/themes/theme18/bg.gif', 'profile_background_tile': False, 'profile_link_color': '038543', 'profile_sidebar_border_color': 'EEEEEE', 'profile_sidebar_fill_color': 'F6F6F6', 'profile_text_color': '333333', 'profile_use_background_image': True, 'profile_image_url': 'http://pbs.twimg.com/profile_images/1646031536/300namanddanceweb_normal.jpg', 'profile_image_url_https': 'https://pbs.twimg.com/profile_images/1646031536/300namanddanceweb_normal.jpg', 'profile_banner_url': 'https://pbs.twimg.com/profile_banners/305774740/1375320405', 'default_profile': False, 'default_profile_image': False, 'following': None, 'follow_request_sent': None, 'notifications': None}, 'geo': None, 'coordinates': None, 'place': {'id': '3b77caf94bfc81fe', 'url': 'https://api.twitter.com/1.1/geo/id/3b77caf94bfc81fe.json', 'place_type': 'city', 'name': 'Los Angeles', 'full_name': 'Los Angeles, CA', 'country_code': 'US', 'country': 'United States', 'bounding_box': {'type': 'Polygon', 'coordinates': [[[-118.668404, 33.704538], [-118.668404, 34.337041], [-118.155409, 34.337041], [-118.155409, 33.704538]]]}, 'attributes': {}}, 'contributors': None, 'is_quote_status': False, 'quote_count': 0, 'reply_count': 0, 'retweet_count': 0, 'favorite_count': 0, 'entities': {'hashtags': [], 'urls': [], 'user_mentions': [], 'symbols': []}, 'favorited': False, 'retweeted': False, 'filter_level': 'low', 'lang': 'ko', 'timestamp_ms': '1532399138028'}, {'created_at': 'Tue Jul 24 02:25:40 +0000 2018', 'id': 1021582153191022592, 'id_str': '1021582153191022592', 'text': 'I really want to take my hair down', 'source': '<a href=\"http://twitter.com/download/iphone\" rel=\"nofollow\">Twitter for iPhone</a>', 'truncated': False, 'in_reply_to_status_id': None, 'in_reply_to_status_id_str': None, 'in_reply_to_user_id': None, 'in_reply_to_user_id_str': None, 'in_reply_to_screen_name': None, 'user': {'id': 232045579, 'id_str': '232045579', 'name': 'Nikki☺', 'screen_name': 'NikkiB_Natural', 'location': 'Bathing In Buttermilk Baths', 'url': None, 'description': 'A woman with big hair and even bigger dreams #WashedGoddess', 'translator_type': 'none', 'protected': False, 'verified': False, 'followers_count': 812, 'friends_count': 705, 'listed_count': 19, 'favourites_count': 1579, 'statuses_count': 117214, 'created_at': 'Thu Dec 30 03:44:23 +0000 2010', 'utc_offset': None, 'time_zone': None, 'geo_enabled': True, 'lang': 'en', 'contributors_enabled': False, 'is_translator': False, 'profile_background_color': 'B6BFB9', 'profile_background_image_url': 'http://abs.twimg.com/images/themes/theme4/bg.gif', 'profile_background_image_url_https': 'https://abs.twimg.com/images/themes/theme4/bg.gif', 'profile_background_tile': False, 'profile_link_color': 'F68181', 'profile_sidebar_border_color': '0A0C2C', 'profile_sidebar_fill_color': '7C2671', 'profile_text_color': 'E72C5A', 'profile_use_background_image': True, 'profile_image_url': 'http://pbs.twimg.com/profile_images/1013343289322291200/oPC2CyuP_normal.jpg', 'profile_image_url_https': 'https://pbs.twimg.com/profile_images/1013343289322291200/oPC2CyuP_normal.jpg', 'profile_banner_url': 'https://pbs.twimg.com/profile_banners/232045579/1473211744', 'default_profile': False, 'default_profile_image': False, 'following': None, 'follow_request_sent': None, 'notifications': None}, 'geo': None, 'coordinates': None, 'place': {'id': '3b77caf94bfc81fe', 'url': 'https://api.twitter.com/1.1/geo/id/3b77caf94bfc81fe.json', 'place_type': 'city', 'name': 'Los Angeles', 'full_name': 'Los Angeles, CA', 'country_code': 'US', 'country': 'United States', 'bounding_box': {'type': 'Polygon', 'coordinates': [[[-118.668404, 33.704538], [-118.668404, 34.337041], [-118.155409, 34.337041], [-118.155409, 33.704538]]]}, 'attributes': {}}, 'contributors': None, 'is_quote_status': False, 'quote_count': 0, 'reply_count': 0, 'retweet_count': 0, 'favorite_count': 0, 'entities': {'hashtags': [], 'urls': [], 'user_mentions': [], 'symbols': []}, 'favorited': False, 'retweeted': False, 'filter_level': 'low', 'lang': 'en', 'timestamp_ms': '1532399140056'}, {'created_at': 'Tue Jul 24 02:25:41 +0000 2018', 'id': 1021582159050469377, 'id_str': '1021582159050469377', 'text': 'This story makes a lot more sense. I always wondered why he would call Floyd about his wife cheating with Trey Song… https://t.co/LqYSY0xAAc', 'display_text_range': [0, 140], 'source': '<a href=\"http://twitter.com/download/iphone\" rel=\"nofollow\">Twitter for iPhone</a>', 'truncated': True, 'in_reply_to_status_id': None, 'in_reply_to_status_id_str': None, 'in_reply_to_user_id': None, 'in_reply_to_user_id_str': None, 'in_reply_to_screen_name': None, 'user': {'id': 426424139, 'id_str': '426424139', 'name': 'SushiBoy5⃣⭕️5⃣Mexico', 'screen_name': 'sushiboyMEXICO', 'location': None, 'url': 'http://sushiboyz.bigcartel.com/', 'description': 'Follow @sushiboyzdie #SovereignUnited #sushiboyz thats it bruh bruh ..', 'translator_type': 'none', 'protected': False, 'verified': False, 'followers_count': 2105, 'friends_count': 407, 'listed_count': 37, 'favourites_count': 15895, 'statuses_count': 122479, 'created_at': 'Fri Dec 02 06:48:11 +0000 2011', 'utc_offset': None, 'time_zone': None, 'geo_enabled': True, 'lang': 'en', 'contributors_enabled': False, 'is_translator': False, 'profile_background_color': '050800', 'profile_background_image_url': 'http://abs.twimg.com/images/themes/theme1/bg.png', 'profile_background_image_url_https': 'https://abs.twimg.com/images/themes/theme1/bg.png', 'profile_background_tile': True, 'profile_link_color': 'F70000', 'profile_sidebar_border_color': 'FFF021', 'profile_sidebar_fill_color': '4AE309', 'profile_text_color': 'FFE603', 'profile_use_background_image': True, 'profile_image_url': 'http://pbs.twimg.com/profile_images/964314335177854978/VzJAK6ls_normal.jpg', 'profile_image_url_https': 'https://pbs.twimg.com/profile_images/964314335177854978/VzJAK6ls_normal.jpg', 'profile_banner_url': 'https://pbs.twimg.com/profile_banners/426424139/1509885162', 'default_profile': False, 'default_profile_image': False, 'following': None, 'follow_request_sent': None, 'notifications': None}, 'geo': None, 'coordinates': None, 'place': {'id': '3b77caf94bfc81fe', 'url': 'https://api.twitter.com/1.1/geo/id/3b77caf94bfc81fe.json', 'place_type': 'city', 'name': 'Los Angeles', 'full_name': 'Los Angeles, CA', 'country_code': 'US', 'country': 'United States', 'bounding_box': {'type': 'Polygon', 'coordinates': [[[-118.668404, 33.704538], [-118.668404, 34.337041], [-118.155409, 34.337041], [-118.155409, 33.704538]]]}, 'attributes': {}}, 'contributors': None, 'quoted_status_id': 1021568694529544192, 'quoted_status_id_str': '1021568694529544192', 'quoted_status': {'created_at': 'Tue Jul 24 01:32:11 +0000 2018', 'id': 1021568694529544192, 'id_str': '1021568694529544192', 'text': 'He needs to be stopped. Jesus Christ. https://t.co/yPRPtyYlKZ', 'display_text_range': [0, 37], 'source': '<a href=\"http://twitter.com/download/iphone\" rel=\"nofollow\">Twitter for iPhone</a>', 'truncated': False, 'in_reply_to_status_id': None, 'in_reply_to_status_id_str': None, 'in_reply_to_user_id': None, 'in_reply_to_user_id_str': None, 'in_reply_to_screen_name': None, 'user': {'id': 109731224, 'id_str': '109731224', 'name': 'Child Support Enthusiast', 'screen_name': 'BtSquared2', 'location': 'Seattle, WA', 'url': 'http://www.amazon.com/registry/wishlist/2KV1EZL7SWRGN/ref=cm_sw_r_tw_ws_Fo8bxb1MCEB7V', 'description': '\"black people really magic.\" - Shawn Corey Carter, prophet', 'translator_type': 'none', 'protected': False, 'verified': False, 'followers_count': 5374, 'friends_count': 928, 'listed_count': 238, 'favourites_count': 2404, 'statuses_count': 319958, 'created_at': 'Sat Jan 30 02:13:28 +0000 2010', 'utc_offset': None, 'time_zone': None, 'geo_enabled': False, 'lang': 'en', 'contributors_enabled': False, 'is_translator': False, 'profile_background_color': '754D75', 'profile_background_image_url': 'http://abs.twimg.com/images/themes/theme7/bg.gif', 'profile_background_image_url_https': 'https://abs.twimg.com/images/themes/theme7/bg.gif', 'profile_background_tile': True, 'profile_link_color': 'FF691F', 'profile_sidebar_border_color': '757175', 'profile_sidebar_fill_color': '000000', 'profile_text_color': '9C279C', 'profile_use_background_image': True, 'profile_image_url': 'http://pbs.twimg.com/profile_images/1021077065435672581/kgSrEgWK_normal.jpg', 'profile_image_url_https': 'https://pbs.twimg.com/profile_images/1021077065435672581/kgSrEgWK_normal.jpg', 'profile_banner_url': 'https://pbs.twimg.com/profile_banners/109731224/1495311474', 'default_profile': False, 'default_profile_image': False, 'following': None, 'follow_request_sent': None, 'notifications': None}, 'geo': None, 'coordinates': None, 'place': None, 'contributors': None, 'is_quote_status': False, 'quote_count': 47, 'reply_count': 4, 'retweet_count': 34, 'favorite_count': 18, 'entities': {'hashtags': [], 'urls': [], 'user_mentions': [], 'symbols': [], 'media': [{'id': 1021568688485425152, 'id_str': '1021568688485425152', 'indices': [38, 61], 'media_url': 'http://pbs.twimg.com/media/Di1XT0bV4AADuVc.jpg', 'media_url_https': 'https://pbs.twimg.com/media/Di1XT0bV4AADuVc.jpg', 'url': 'https://t.co/yPRPtyYlKZ', 'display_url': 'pic.twitter.com/yPRPtyYlKZ', 'expanded_url': 'https://twitter.com/BtSquared2/status/1021568694529544192/photo/1', 'type': 'photo', 'sizes': {'thumb': {'w': 150, 'h': 150, 'resize': 'crop'}, 'small': {'w': 383, 'h': 680, 'resize': 'fit'}, 'medium': {'w': 675, 'h': 1200, 'resize': 'fit'}, 'large': {'w': 1152, 'h': 2048, 'resize': 'fit'}}}]}, 'extended_entities': {'media': [{'id': 1021568688485425152, 'id_str': '1021568688485425152', 'indices': [38, 61], 'media_url': 'http://pbs.twimg.com/media/Di1XT0bV4AADuVc.jpg', 'media_url_https': 'https://pbs.twimg.com/media/Di1XT0bV4AADuVc.jpg', 'url': 'https://t.co/yPRPtyYlKZ', 'display_url': 'pic.twitter.com/yPRPtyYlKZ', 'expanded_url': 'https://twitter.com/BtSquared2/status/1021568694529544192/photo/1', 'type': 'photo', 'sizes': {'thumb': {'w': 150, 'h': 150, 'resize': 'crop'}, 'small': {'w': 383, 'h': 680, 'resize': 'fit'}, 'medium': {'w': 675, 'h': 1200, 'resize': 'fit'}, 'large': {'w': 1152, 'h': 2048, 'resize': 'fit'}}}]}, 'favorited': False, 'retweeted': False, 'possibly_sensitive': False, 'filter_level': 'low', 'lang': 'en'}, 'quoted_status_permalink': {'url': 'https://t.co/zSPDXJUPiC', 'expanded': 'https://twitter.com/btsquared2/status/1021568694529544192', 'display': 'twitter.com/btsquared2/sta…'}, 'is_quote_status': True, 'extended_tweet': {'full_text': 'This story makes a lot more sense. I always wondered why he would call Floyd about his wife cheating with Trey Songz 😭 https://t.co/zSPDXJUPiC', 'display_text_range': [0, 118], 'entities': {'hashtags': [], 'urls': [{'url': 'https://t.co/zSPDXJUPiC', 'expanded_url': 'https://twitter.com/btsquared2/status/1021568694529544192', 'display_url': 'twitter.com/btsquared2/sta…', 'indices': [119, 142]}], 'user_mentions': [], 'symbols': []}}, 'quote_count': 0, 'reply_count': 0, 'retweet_count': 0, 'favorite_count': 0, 'entities': {'hashtags': [], 'urls': [{'url': 'https://t.co/LqYSY0xAAc', 'expanded_url': 'https://twitter.com/i/web/status/1021582159050469377', 'display_url': 'twitter.com/i/web/status/1…', 'indices': [117, 140]}], 'user_mentions': [], 'symbols': []}, 'favorited': False, 'retweeted': False, 'possibly_sensitive': False, 'filter_level': 'low', 'lang': 'en', 'timestamp_ms': '1532399141453'}, {'created_at': 'Tue Jul 24 02:25:43 +0000 2018', 'id': 1021582169049681920, 'id_str': '1021582169049681920', 'text': 'Shasta High School has been set up as an evacuation Center for the #CarrFire for those evacuating east.', 'source': '<a href=\"http://twitter.com/download/android\" rel=\"nofollow\">Twitter for Android</a>', 'truncated': False, 'in_reply_to_status_id': None, 'in_reply_to_status_id_str': None, 'in_reply_to_user_id': None, 'in_reply_to_user_id_str': None, 'in_reply_to_screen_name': None, 'user': {'id': 977283510636462081, 'id_str': '977283510636462081', 'name': 'Nuriddin Ziyadinov', 'screen_name': 'NuriddinARC', 'location': 'Northern California', 'url': None, 'description': 'American Red Cross Disaster Program Manager in Northeastern CA, Serving Lassen, Modoc, Shasta, Siskiyou, Tehama, and Trinity Counties.', 'translator_type': 'none', 'protected': False, 'verified': False, 'followers_count': 60, 'friends_count': 147, 'listed_count': 2, 'favourites_count': 398, 'statuses_count': 135, 'created_at': 'Fri Mar 23 20:38:40 +0000 2018', 'utc_offset': None, 'time_zone': None, 'geo_enabled': True, 'lang': 'en', 'contributors_enabled': False, 'is_translator': False, 'profile_background_color': 'F5F8FA', 'profile_background_image_url': '', 'profile_background_image_url_https': '', 'profile_background_tile': False, 'profile_link_color': '1DA1F2', 'profile_sidebar_border_color': 'C0DEED', 'profile_sidebar_fill_color': 'DDEEF6', 'profile_text_color': '333333', 'profile_use_background_image': True, 'profile_image_url': 'http://pbs.twimg.com/profile_images/1017159846553059328/aPj3wmZE_normal.jpg', 'profile_image_url_https': 'https://pbs.twimg.com/profile_images/1017159846553059328/aPj3wmZE_normal.jpg', 'profile_banner_url': 'https://pbs.twimg.com/profile_banners/977283510636462081/1531503638', 'default_profile': True, 'default_profile_image': False, 'following': None, 'follow_request_sent': None, 'notifications': None}, 'geo': None, 'coordinates': None, 'place': {'id': 'fbd6d2f5a4e4a15e', 'url': 'https://api.twitter.com/1.1/geo/id/fbd6d2f5a4e4a15e.json', 'place_type': 'admin', 'name': 'California', 'full_name': 'California, USA', 'country_code': 'US', 'country': 'United States', 'bounding_box': {'type': 'Polygon', 'coordinates': [[[-124.482003, 32.528832], [-124.482003, 42.009519], [-114.131212, 42.009519], [-114.131212, 32.528832]]]}, 'attributes': {}}, 'contributors': None, 'is_quote_status': False, 'quote_count': 0, 'reply_count': 0, 'retweet_count': 0, 'favorite_count': 0, 'entities': {'hashtags': [{'text': 'CarrFire', 'indices': [67, 76]}], 'urls': [], 'user_mentions': [], 'symbols': []}, 'favorited': False, 'retweeted': False, 'filter_level': 'low', 'lang': 'en', 'timestamp_ms': '1532399143837'}, {'created_at': 'Tue Jul 24 02:25:45 +0000 2018', 'id': 1021582174112215040, 'id_str': '1021582174112215040', 'text': \"@EmilyCWaldon @dennistlin Is it sad that I'm not even surprised? https://t.co/ksg3AhNB7Y\", 'display_text_range': [26, 64], 'source': '<a href=\"http://twitter.com\" rel=\"nofollow\">Twitter Web Client</a>', 'truncated': False, 'in_reply_to_status_id': 1021581775246643200, 'in_reply_to_status_id_str': '1021581775246643200', 'in_reply_to_user_id': 489733778, 'in_reply_to_user_id_str': '489733778', 'in_reply_to_screen_name': 'EmilyCWaldon', 'user': {'id': 277686812, 'id_str': '277686812', 'name': 'Patrick Cusick', 'screen_name': 'TheProfessorPQ', 'location': 'San Diego', 'url': 'https://eastvillagetimes.com/author/patrick-cusick/', 'description': 'Contributor for @EVT_News', 'translator_type': 'none', 'protected': False, 'verified': False, 'followers_count': 201, 'friends_count': 487, 'listed_count': 5, 'favourites_count': 1743, 'statuses_count': 1344, 'created_at': 'Tue Apr 05 21:04:33 +0000 2011', 'utc_offset': None, 'time_zone': None, 'geo_enabled': True, 'lang': 'en', 'contributors_enabled': False, 'is_translator': False, 'profile_background_color': '000000', 'profile_background_image_url': 'http://abs.twimg.com/images/themes/theme14/bg.gif', 'profile_background_image_url_https': 'https://abs.twimg.com/images/themes/theme14/bg.gif', 'profile_background_tile': False, 'profile_link_color': '1B95E0', 'profile_sidebar_border_color': '000000', 'profile_sidebar_fill_color': '000000', 'profile_text_color': '000000', 'profile_use_background_image': False, 'profile_image_url': 'http://pbs.twimg.com/profile_images/1002683913918033920/ZZawpuZG_normal.jpg', 'profile_image_url_https': 'https://pbs.twimg.com/profile_images/1002683913918033920/ZZawpuZG_normal.jpg', 'profile_banner_url': 'https://pbs.twimg.com/profile_banners/277686812/1532069151', 'default_profile': False, 'default_profile_image': False, 'following': None, 'follow_request_sent': None, 'notifications': None}, 'geo': None, 'coordinates': None, 'place': {'id': 'fbd6d2f5a4e4a15e', 'url': 'https://api.twitter.com/1.1/geo/id/fbd6d2f5a4e4a15e.json', 'place_type': 'admin', 'name': 'California', 'full_name': 'California, USA', 'country_code': 'US', 'country': 'United States', 'bounding_box': {'type': 'Polygon', 'coordinates': [[[-124.482003, 32.528832], [-124.482003, 42.009519], [-114.131212, 42.009519], [-114.131212, 32.528832]]]}, 'attributes': {}}, 'contributors': None, 'is_quote_status': False, 'quote_count': 0, 'reply_count': 0, 'retweet_count': 0, 'favorite_count': 0, 'entities': {'hashtags': [], 'urls': [], 'user_mentions': [{'screen_name': 'EmilyCWaldon', 'name': 'Emily Waldon', 'id': 489733778, 'id_str': '489733778', 'indices': [0, 13]}, {'screen_name': 'dennistlin', 'name': 'Dennis Lin', 'id': 96534215, 'id_str': '96534215', 'indices': [14, 25]}], 'symbols': [], 'media': [{'id': 1021582167187443712, 'id_str': '1021582167187443712', 'indices': [65, 88], 'media_url': 'http://pbs.twimg.com/tweet_video_thumb/Di1jkYgU0AA9MnS.jpg', 'media_url_https': 'https://pbs.twimg.com/tweet_video_thumb/Di1jkYgU0AA9MnS.jpg', 'url': 'https://t.co/ksg3AhNB7Y', 'display_url': 'pic.twitter.com/ksg3AhNB7Y', 'expanded_url': 'https://twitter.com/TheProfessorPQ/status/1021582174112215040/photo/1', 'type': 'photo', 'sizes': {'thumb': {'w': 150, 'h': 150, 'resize': 'crop'}, 'large': {'w': 498, 'h': 356, 'resize': 'fit'}, 'medium': {'w': 498, 'h': 356, 'resize': 'fit'}, 'small': {'w': 498, 'h': 356, 'resize': 'fit'}}}]}, 'extended_entities': {'media': [{'id': 1021582167187443712, 'id_str': '1021582167187443712', 'indices': [65, 88], 'media_url': 'http://pbs.twimg.com/tweet_video_thumb/Di1jkYgU0AA9MnS.jpg', 'media_url_https': 'https://pbs.twimg.com/tweet_video_thumb/Di1jkYgU0AA9MnS.jpg', 'url': 'https://t.co/ksg3AhNB7Y', 'display_url': 'pic.twitter.com/ksg3AhNB7Y', 'expanded_url': 'https://twitter.com/TheProfessorPQ/status/1021582174112215040/photo/1', 'type': 'animated_gif', 'video_info': {'aspect_ratio': [249, 178], 'variants': [{'bitrate': 0, 'content_type': 'video/mp4', 'url': 'https://video.twimg.com/tweet_video/Di1jkYgU0AA9MnS.mp4'}]}, 'sizes': {'thumb': {'w': 150, 'h': 150, 'resize': 'crop'}, 'large': {'w': 498, 'h': 356, 'resize': 'fit'}, 'medium': {'w': 498, 'h': 356, 'resize': 'fit'}, 'small': {'w': 498, 'h': 356, 'resize': 'fit'}}}]}, 'favorited': False, 'retweeted': False, 'possibly_sensitive': False, 'filter_level': 'low', 'lang': 'en', 'timestamp_ms': '1532399145044'}, {'created_at': 'Tue Jul 24 02:25:47 +0000 2018', 'id': 1021582183582973953, 'id_str': '1021582183582973953', 'text': '@longdrivesouth And, in Spanish, it already is.', 'display_text_range': [16, 47], 'source': '<a href=\"http://twitter.com/download/iphone\" rel=\"nofollow\">Twitter for iPhone</a>', 'truncated': False, 'in_reply_to_status_id': 1021499283378462723, 'in_reply_to_status_id_str': '1021499283378462723', 'in_reply_to_user_id': 30725017, 'in_reply_to_user_id_str': '30725017', 'in_reply_to_screen_name': 'longdrivesouth', 'user': {'id': 60949435, 'id_str': '60949435', 'name': 'Bill Esparza', 'screen_name': 'streetgourmetla', 'location': 'Hollywood, Los Angeles', 'url': 'https://www.amazon.com/L-Mexicano-Bill-Esparza/dp/1945551003', 'description': \"Pro saxophonist, James Beard award winning writer @eaterla, world's 1st tacorazzo. Owner @clubtengohambre IG/Snap @streetgourmetla\", 'translator_type': 'none', 'protected': False, 'verified': False, 'followers_count': 10490, 'friends_count': 1076, 'listed_count': 487, 'favourites_count': 122, 'statuses_count': 62650, 'created_at': 'Tue Jul 28 16:30:31 +0000 2009', 'utc_offset': None, 'time_zone': None, 'geo_enabled': True, 'lang': 'en', 'contributors_enabled': False, 'is_translator': False, 'profile_background_color': 'C9EBC3', 'profile_background_image_url': 'http://abs.twimg.com/images/themes/theme1/bg.png', 'profile_background_image_url_https': 'https://abs.twimg.com/images/themes/theme1/bg.png', 'profile_background_tile': True, 'profile_link_color': '4AF53B', 'profile_sidebar_border_color': 'EBC3C9', 'profile_sidebar_fill_color': 'DFF5DC', 'profile_text_color': '0A010A', 'profile_use_background_image': True, 'profile_image_url': 'http://pbs.twimg.com/profile_images/1138968668/Bill_Esparza_with_Mezcal_at_Corazon_de_Maguey_-_Copy_normal.JPG', 'profile_image_url_https': 'https://pbs.twimg.com/profile_images/1138968668/Bill_Esparza_with_Mezcal_at_Corazon_de_Maguey_-_Copy_normal.JPG', 'profile_banner_url': 'https://pbs.twimg.com/profile_banners/60949435/1504675686', 'default_profile': False, 'default_profile_image': False, 'following': None, 'follow_request_sent': None, 'notifications': None}, 'geo': None, 'coordinates': None, 'place': {'id': '3b77caf94bfc81fe', 'url': 'https://api.twitter.com/1.1/geo/id/3b77caf94bfc81fe.json', 'place_type': 'city', 'name': 'Los Angeles', 'full_name': 'Los Angeles, CA', 'country_code': 'US', 'country': 'United States', 'bounding_box': {'type': 'Polygon', 'coordinates': [[[-118.668404, 33.704538], [-118.668404, 34.337041], [-118.155409, 34.337041], [-118.155409, 33.704538]]]}, 'attributes': {}}, 'contributors': None, 'is_quote_status': False, 'quote_count': 0, 'reply_count': 0, 'retweet_count': 0, 'favorite_count': 0, 'entities': {'hashtags': [], 'urls': [], 'user_mentions': [{'screen_name': 'longdrivesouth', 'name': 'Daniel Hernandez', 'id': 30725017, 'id_str': '30725017', 'indices': [0, 15]}], 'symbols': []}, 'favorited': False, 'retweeted': False, 'filter_level': 'low', 'lang': 'en', 'timestamp_ms': '1532399147302'}, {'created_at': 'Tue Jul 24 02:25:48 +0000 2018', 'id': 1021582187345244160, 'id_str': '1021582187345244160', 'text': '지난달 15일, 드루킹 일당은 느릅나무 출판사에 남아 있던 물품들을 근처 컨테이너 창고로 옮겼습니다.이틀에 걸쳐 옮겼는데 이삿짐 트럭으로 8대, 상자 950개 분량이었습니다.(안상우)', 'source': '<a href=\"http://twitter.com\" rel=\"nofollow\">Twitter Web Client</a>', 'truncated': False, 'in_reply_to_status_id': None, 'in_reply_to_status_id_str': None, 'in_reply_to_user_id': None, 'in_reply_to_user_id_str': None, 'in_reply_to_screen_name': None, 'user': {'id': 305774740, 'id_str': '305774740', 'name': '나라지키고', 'screen_name': 'chongjuhigh', 'location': 'Los Angeles, California', 'url': None, 'description': '한국(고국) 의 공산화를 걱정하는사람.6.25 를 직접목격한 사람.한국에서 법과졸업.중위제대.음악교사. 빈손으로 와서 미국생활55년차됨.80대트윗왕초보생.철모르는 젊은이들에게 죽기전에전해주어야할진실들을 전해주고싶다', 'translator_type': 'none', 'protected': False, 'verified': False, 'followers_count': 25036, 'friends_count': 26030, 'listed_count': 89, 'favourites_count': 54, 'statuses_count': 348979, 'created_at': 'Thu May 26 19:37:22 +0000 2011', 'utc_offset': None, 'time_zone': None, 'geo_enabled': True, 'lang': 'ko', 'contributors_enabled': False, 'is_translator': False, 'profile_background_color': 'ACDED6', 'profile_background_image_url': 'http://abs.twimg.com/images/themes/theme18/bg.gif', 'profile_background_image_url_https': 'https://abs.twimg.com/images/themes/theme18/bg.gif', 'profile_background_tile': False, 'profile_link_color': '038543', 'profile_sidebar_border_color': 'EEEEEE', 'profile_sidebar_fill_color': 'F6F6F6', 'profile_text_color': '333333', 'profile_use_background_image': True, 'profile_image_url': 'http://pbs.twimg.com/profile_images/1646031536/300namanddanceweb_normal.jpg', 'profile_image_url_https': 'https://pbs.twimg.com/profile_images/1646031536/300namanddanceweb_normal.jpg', 'profile_banner_url': 'https://pbs.twimg.com/profile_banners/305774740/1375320405', 'default_profile': False, 'default_profile_image': False, 'following': None, 'follow_request_sent': None, 'notifications': None}, 'geo': None, 'coordinates': None, 'place': {'id': '3b77caf94bfc81fe', 'url': 'https://api.twitter.com/1.1/geo/id/3b77caf94bfc81fe.json', 'place_type': 'city', 'name': 'Los Angeles', 'full_name': 'Los Angeles, CA', 'country_code': 'US', 'country': 'United States', 'bounding_box': {'type': 'Polygon', 'coordinates': [[[-118.668404, 33.704538], [-118.668404, 34.337041], [-118.155409, 34.337041], [-118.155409, 33.704538]]]}, 'attributes': {}}, 'contributors': None, 'is_quote_status': False, 'quote_count': 0, 'reply_count': 0, 'retweet_count': 0, 'favorite_count': 0, 'entities': {'hashtags': [], 'urls': [], 'user_mentions': [], 'symbols': []}, 'favorited': False, 'retweeted': False, 'filter_level': 'low', 'lang': 'ko', 'timestamp_ms': '1532399148199'}, {'created_at': 'Tue Jul 24 02:25:48 +0000 2018', 'id': 1021582188570017793, 'id_str': '1021582188570017793', 'text': 'LEG DAY !!!!!', 'source': '<a href=\"http://twitter.com/download/iphone\" rel=\"nofollow\">Twitter for iPhone</a>', 'truncated': False, 'in_reply_to_status_id': None, 'in_reply_to_status_id_str': None, 'in_reply_to_user_id': None, 'in_reply_to_user_id_str': None, 'in_reply_to_screen_name': None, 'user': {'id': 2278854920, 'id_str': '2278854920', 'name': 'Jocelyne', 'screen_name': 'Joclynnexo', 'location': 'Los Angeles, CA', 'url': None, 'description': 'living life ✨', 'translator_type': 'none', 'protected': False, 'verified': False, 'followers_count': 187, 'friends_count': 164, 'listed_count': 0, 'favourites_count': 2833, 'statuses_count': 13818, 'created_at': 'Mon Jan 06 09:47:31 +0000 2014', 'utc_offset': None, 'time_zone': None, 'geo_enabled': True, 'lang': 'en', 'contributors_enabled': False, 'is_translator': False, 'profile_background_color': 'B52F60', 'profile_background_image_url': 'http://abs.twimg.com/images/themes/theme1/bg.png', 'profile_background_image_url_https': 'https://abs.twimg.com/images/themes/theme1/bg.png', 'profile_background_tile': True, 'profile_link_color': '080808', 'profile_sidebar_border_color': 'FFFFFF', 'profile_sidebar_fill_color': 'DDEEF6', 'profile_text_color': '333333', 'profile_use_background_image': True, 'profile_image_url': 'http://pbs.twimg.com/profile_images/1021308792011513857/yr2yAceS_normal.jpg', 'profile_image_url_https': 'https://pbs.twimg.com/profile_images/1021308792011513857/yr2yAceS_normal.jpg', 'profile_banner_url': 'https://pbs.twimg.com/profile_banners/2278854920/1531531023', 'default_profile': False, 'default_profile_image': False, 'following': None, 'follow_request_sent': None, 'notifications': None}, 'geo': None, 'coordinates': None, 'place': {'id': '3b77caf94bfc81fe', 'url': 'https://api.twitter.com/1.1/geo/id/3b77caf94bfc81fe.json', 'place_type': 'city', 'name': 'Los Angeles', 'full_name': 'Los Angeles, CA', 'country_code': 'US', 'country': 'United States', 'bounding_box': {'type': 'Polygon', 'coordinates': [[[-118.668404, 33.704538], [-118.668404, 34.337041], [-118.155409, 34.337041], [-118.155409, 33.704538]]]}, 'attributes': {}}, 'contributors': None, 'is_quote_status': False, 'quote_count': 0, 'reply_count': 0, 'retweet_count': 0, 'favorite_count': 0, 'entities': {'hashtags': [], 'urls': [], 'user_mentions': [], 'symbols': []}, 'favorited': False, 'retweeted': False, 'filter_level': 'low', 'lang': 'en', 'timestamp_ms': '1532399148491'}, {'created_at': 'Tue Jul 24 02:25:49 +0000 2018', 'id': 1021582193871613952, 'id_str': '1021582193871613952', 'text': '@chucky_beatz @JoeyFatts lmfao', 'display_text_range': [25, 30], 'source': '<a href=\"http://twitter.com/download/iphone\" rel=\"nofollow\">Twitter for iPhone</a>', 'truncated': False, 'in_reply_to_status_id': 1021573789153255425, 'in_reply_to_status_id_str': '1021573789153255425', 'in_reply_to_user_id': 133917976, 'in_reply_to_user_id_str': '133917976', 'in_reply_to_screen_name': 'chucky_beatz', 'user': {'id': 541340274, 'id_str': '541340274', 'name': 'YUNG M', 'screen_name': 'kwameJAW', 'location': 'A Lost Angel', 'url': None, 'description': 'https://youtu.be/Bb-XhU1WGDo', 'translator_type': 'none', 'protected': False, 'verified': False, 'followers_count': 554, 'friends_count': 57, 'listed_count': 5, 'favourites_count': 4233, 'statuses_count': 9089, 'created_at': 'Sat Mar 31 01:09:35 +0000 2012', 'utc_offset': None, 'time_zone': None, 'geo_enabled': True, 'lang': 'en', 'contributors_enabled': False, 'is_translator': False, 'profile_background_color': 'FFFFFF', 'profile_background_image_url': 'http://abs.twimg.com/images/themes/theme1/bg.png', 'profile_background_image_url_https': 'https://abs.twimg.com/images/themes/theme1/bg.png', 'profile_background_tile': False, 'profile_link_color': '000000', 'profile_sidebar_border_color': 'FFFFFF', 'profile_sidebar_fill_color': 'DDEEF6', 'profile_text_color': '333333', 'profile_use_background_image': True, 'profile_image_url': 'http://pbs.twimg.com/profile_images/1018224788878254080/0hyWltTS_normal.jpg', 'profile_image_url_https': 'https://pbs.twimg.com/profile_images/1018224788878254080/0hyWltTS_normal.jpg', 'profile_banner_url': 'https://pbs.twimg.com/profile_banners/541340274/1518461324', 'default_profile': False, 'default_profile_image': False, 'following': None, 'follow_request_sent': None, 'notifications': None}, 'geo': None, 'coordinates': None, 'place': {'id': '3b77caf94bfc81fe', 'url': 'https://api.twitter.com/1.1/geo/id/3b77caf94bfc81fe.json', 'place_type': 'city', 'name': 'Los Angeles', 'full_name': 'Los Angeles, CA', 'country_code': 'US', 'country': 'United States', 'bounding_box': {'type': 'Polygon', 'coordinates': [[[-118.668404, 33.704538], [-118.668404, 34.337041], [-118.155409, 34.337041], [-118.155409, 33.704538]]]}, 'attributes': {}}, 'contributors': None, 'is_quote_status': False, 'quote_count': 0, 'reply_count': 0, 'retweet_count': 0, 'favorite_count': 0, 'entities': {'hashtags': [], 'urls': [], 'user_mentions': [{'screen_name': 'chucky_beatz', 'name': 'Chucky Beatz', 'id': 133917976, 'id_str': '133917976', 'indices': [0, 13]}, {'screen_name': 'JoeyFatts', 'name': 'JOEY FATTS', 'id': 163712100, 'id_str': '163712100', 'indices': [14, 24]}], 'symbols': []}, 'favorited': False, 'retweeted': False, 'filter_level': 'low', 'lang': 'en', 'timestamp_ms': '1532399149755'}]\n"
     ]
    }
   ],
   "source": [
    "print(tweets)"
   ]
  },
  {
   "cell_type": "code",
   "execution_count": null,
   "metadata": {},
   "outputs": [],
   "source": [
    "import json\n",
    "from lib import create_timestamped_filename"
   ]
  },
  {
   "cell_type": "code",
   "execution_count": null,
   "metadata": {},
   "outputs": [],
   "source": [
    "username = 'dennissibo'\n",
    "filename = create_timestamped_filename(username)"
   ]
  },
  {
   "cell_type": "code",
   "execution_count": null,
   "metadata": {},
   "outputs": [],
   "source": [
    "with open(filename, 'w') as outfile:\n",
    "    json.dump(tweets, outfile)"
   ]
  },
  {
   "cell_type": "code",
   "execution_count": null,
   "metadata": {},
   "outputs": [],
   "source": [
    "from lib import create_boto_client\n",
    "s3_client = create_boto_client()"
   ]
  },
  {
   "cell_type": "code",
   "execution_count": null,
   "metadata": {},
   "outputs": [],
   "source": [
    "from lib import write_file_to_S3\n",
    "filename = 'tweets-dennissibo-2018-07-24_02-12-06-781711.json'\n",
    "S3_BUCKET = 'uclax-data-science'\n",
    "write_file_to_S3(s3_client, filename, S3_BUCKET)"
   ]
  },
  {
   "cell_type": "code",
   "execution_count": null,
   "metadata": {},
   "outputs": [],
   "source": [
    "from lib import list_files_in_S3_bucket"
   ]
  },
  {
   "cell_type": "code",
   "execution_count": null,
   "metadata": {},
   "outputs": [],
   "source": [
    "S3_BUCKET = 'uclax-data-science'\n",
    "list_files_in_S3_bucket(s3_client, S3_BUCKET)"
   ]
  },
  {
   "cell_type": "code",
   "execution_count": 31,
   "metadata": {},
   "outputs": [],
   "source": [
    "from lib import read_object_from_S3\n",
    "S3_BUCKET = 'uclax-data-science'\n",
    "tweets_from_s3 = read_object_from_S3(s3_client, 'tweets-dennissibo-2018-07-24_02-12-06-781711.json', S3_BUCKET)"
   ]
  },
  {
   "cell_type": "code",
   "execution_count": 38,
   "metadata": {},
   "outputs": [
    {
     "data": {
      "text/plain": [
       "<pymongo.results.InsertOneResult at 0x7f3540755c88>"
      ]
     },
     "execution_count": 38,
     "metadata": {},
     "output_type": "execute_result"
    }
   ],
   "source": [
    "from lib import create_mongo_client_to_database_collection\n",
    "collection_client = create_mongo_client_to_database_collection('twitter', 'tweets')\n",
    "collection_client.insert_one(next(tweet_iterator))"
   ]
  }
 ],
 "metadata": {
  "kernelspec": {
   "display_name": "Python 3",
   "language": "python",
   "name": "python3"
  },
  "language_info": {
   "codemirror_mode": {
    "name": "ipython",
    "version": 3
   },
   "file_extension": ".py",
   "mimetype": "text/x-python",
   "name": "python",
   "nbconvert_exporter": "python",
   "pygments_lexer": "ipython3",
   "version": "3.6.5"
  }
 },
 "nbformat": 4,
 "nbformat_minor": 2
}
